{
 "cells": [
  {
   "cell_type": "markdown",
   "metadata": {},
   "source": [
    "### Load the data"
   ]
  },
  {
   "cell_type": "code",
   "execution_count": 1,
   "metadata": {},
   "outputs": [
    {
     "data": {
      "text/html": [
       "<div>\n",
       "<style scoped>\n",
       "    .dataframe tbody tr th:only-of-type {\n",
       "        vertical-align: middle;\n",
       "    }\n",
       "\n",
       "    .dataframe tbody tr th {\n",
       "        vertical-align: top;\n",
       "    }\n",
       "\n",
       "    .dataframe thead th {\n",
       "        text-align: right;\n",
       "    }\n",
       "</style>\n",
       "<table border=\"1\" class=\"dataframe\">\n",
       "  <thead>\n",
       "    <tr style=\"text-align: right;\">\n",
       "      <th></th>\n",
       "      <th>fixed acidity</th>\n",
       "      <th>volatile acidity</th>\n",
       "      <th>citric acid</th>\n",
       "      <th>residual sugar</th>\n",
       "      <th>chlorides</th>\n",
       "      <th>free sulfur dioxide</th>\n",
       "      <th>total sulfur dioxide</th>\n",
       "      <th>density</th>\n",
       "      <th>pH</th>\n",
       "      <th>sulphates</th>\n",
       "      <th>alcohol</th>\n",
       "      <th>quality</th>\n",
       "    </tr>\n",
       "  </thead>\n",
       "  <tbody>\n",
       "    <tr>\n",
       "      <th>0</th>\n",
       "      <td>7.4</td>\n",
       "      <td>0.70</td>\n",
       "      <td>0.00</td>\n",
       "      <td>1.9</td>\n",
       "      <td>0.076</td>\n",
       "      <td>11.0</td>\n",
       "      <td>34.0</td>\n",
       "      <td>0.9978</td>\n",
       "      <td>3.51</td>\n",
       "      <td>0.56</td>\n",
       "      <td>9.4</td>\n",
       "      <td>5</td>\n",
       "    </tr>\n",
       "    <tr>\n",
       "      <th>1</th>\n",
       "      <td>7.8</td>\n",
       "      <td>0.88</td>\n",
       "      <td>0.00</td>\n",
       "      <td>2.6</td>\n",
       "      <td>0.098</td>\n",
       "      <td>25.0</td>\n",
       "      <td>67.0</td>\n",
       "      <td>0.9968</td>\n",
       "      <td>3.20</td>\n",
       "      <td>0.68</td>\n",
       "      <td>9.8</td>\n",
       "      <td>5</td>\n",
       "    </tr>\n",
       "    <tr>\n",
       "      <th>2</th>\n",
       "      <td>7.8</td>\n",
       "      <td>0.76</td>\n",
       "      <td>0.04</td>\n",
       "      <td>2.3</td>\n",
       "      <td>0.092</td>\n",
       "      <td>15.0</td>\n",
       "      <td>54.0</td>\n",
       "      <td>0.9970</td>\n",
       "      <td>3.26</td>\n",
       "      <td>0.65</td>\n",
       "      <td>9.8</td>\n",
       "      <td>5</td>\n",
       "    </tr>\n",
       "    <tr>\n",
       "      <th>3</th>\n",
       "      <td>11.2</td>\n",
       "      <td>0.28</td>\n",
       "      <td>0.56</td>\n",
       "      <td>1.9</td>\n",
       "      <td>0.075</td>\n",
       "      <td>17.0</td>\n",
       "      <td>60.0</td>\n",
       "      <td>0.9980</td>\n",
       "      <td>3.16</td>\n",
       "      <td>0.58</td>\n",
       "      <td>9.8</td>\n",
       "      <td>6</td>\n",
       "    </tr>\n",
       "    <tr>\n",
       "      <th>4</th>\n",
       "      <td>7.4</td>\n",
       "      <td>0.70</td>\n",
       "      <td>0.00</td>\n",
       "      <td>1.9</td>\n",
       "      <td>0.076</td>\n",
       "      <td>11.0</td>\n",
       "      <td>34.0</td>\n",
       "      <td>0.9978</td>\n",
       "      <td>3.51</td>\n",
       "      <td>0.56</td>\n",
       "      <td>9.4</td>\n",
       "      <td>5</td>\n",
       "    </tr>\n",
       "  </tbody>\n",
       "</table>\n",
       "</div>"
      ],
      "text/plain": [
       "   fixed acidity  volatile acidity  citric acid  residual sugar  chlorides  \\\n",
       "0            7.4              0.70         0.00             1.9      0.076   \n",
       "1            7.8              0.88         0.00             2.6      0.098   \n",
       "2            7.8              0.76         0.04             2.3      0.092   \n",
       "3           11.2              0.28         0.56             1.9      0.075   \n",
       "4            7.4              0.70         0.00             1.9      0.076   \n",
       "\n",
       "   free sulfur dioxide  total sulfur dioxide  density    pH  sulphates  \\\n",
       "0                 11.0                  34.0   0.9978  3.51       0.56   \n",
       "1                 25.0                  67.0   0.9968  3.20       0.68   \n",
       "2                 15.0                  54.0   0.9970  3.26       0.65   \n",
       "3                 17.0                  60.0   0.9980  3.16       0.58   \n",
       "4                 11.0                  34.0   0.9978  3.51       0.56   \n",
       "\n",
       "   alcohol  quality  \n",
       "0      9.4        5  \n",
       "1      9.8        5  \n",
       "2      9.8        5  \n",
       "3      9.8        6  \n",
       "4      9.4        5  "
      ]
     },
     "execution_count": 1,
     "metadata": {},
     "output_type": "execute_result"
    }
   ],
   "source": [
    "import pandas as pd\n",
    "import numpy as np\n",
    "from sklearn.model_selection import train_test_split\n",
    "\n",
    "wine = pd.read_csv('Data/winequality-red.csv', delimiter = ';')\n",
    "wine.head()"
   ]
  },
  {
   "cell_type": "code",
   "execution_count": 2,
   "metadata": {},
   "outputs": [],
   "source": [
    "train, test = train_test_split(wine, test_size = 0.2, random_state = 0)"
   ]
  },
  {
   "cell_type": "code",
   "execution_count": 3,
   "metadata": {},
   "outputs": [],
   "source": [
    "import statsmodels.api as sm\n",
    "\n",
    "X_train = train.drop(['quality'], axis=1)\n",
    "X_train = sm.add_constant(X_train)\n",
    "y_train = train['quality']\n",
    "\n",
    "X_test = test.drop(['quality'], axis=1)\n",
    "X_test = sm.add_constant(X_test)\n",
    "y_test = test['quality']"
   ]
  },
  {
   "cell_type": "markdown",
   "metadata": {},
   "source": [
    "### Best Subset Selection "
   ]
  },
  {
   "cell_type": "code",
   "execution_count": 4,
   "metadata": {},
   "outputs": [
    {
     "name": "stdout",
     "output_type": "stream",
     "text": [
      "Processed 12 models on 1 predictors in 0.31438517570495605 seconds.\n",
      "Processed 66 models on 2 predictors in 1.9933438301086426 seconds.\n",
      "Processed 220 models on 3 predictors in 7.309293031692505 seconds.\n",
      "Processed 495 models on 4 predictors in 18.219524145126343 seconds.\n",
      "Processed 792 models on 5 predictors in 31.55221915245056 seconds.\n",
      "Processed 924 models on 6 predictors in 39.3025689125061 seconds.\n",
      "Processed 792 models on 7 predictors in 35.946675062179565 seconds.\n",
      "Processed 495 models on 8 predictors in 23.248604774475098 seconds.\n",
      "Processed 220 models on 9 predictors in 10.959013223648071 seconds.\n",
      "Processed 66 models on 10 predictors in 3.598240852355957 seconds.\n",
      "Processed 12 models on 11 predictors in 0.6809582710266113 seconds.\n",
      "Processed 1 models on 12 predictors in 0.05989384651184082 seconds.\n"
     ]
    }
   ],
   "source": [
    "import statsmodels.api as sm\n",
    "import itertools\n",
    "import time\n",
    "from sklearn.pipeline import Pipeline\n",
    "from sklearn.preprocessing import StandardScaler\n",
    "from sklearn.linear_model import LogisticRegression\n",
    "from sklearn.model_selection import cross_val_score, StratifiedKFold\n",
    "\n",
    "def processSubset(feature_set):\n",
    "    scaler = StandardScaler()\n",
    "    log_reg = LogisticRegression(random_state=0, max_iter=10000)\n",
    "    # Use Stratified K-Fold to maintain the ratio of classes in each fold\n",
    "    skf = StratifiedKFold(n_splits=4, shuffle=True, random_state=0)\n",
    "    pipe = Pipeline([('scaler', scaler), ('log_reg', log_reg)])\n",
    "    scores = cross_val_score(pipe, X_train[list(feature_set)], y_train, cv=skf, scoring='accuracy')\n",
    "    return {\"model\": pipe, \"score\": np.mean(scores), \"features\": feature_set}\n",
    "\n",
    "def getBest(k):\n",
    "    tic = time.time()\n",
    "    results = []\n",
    "    for combo in itertools.combinations(X_train.columns, k):\n",
    "        results.append(processSubset(combo))\n",
    "    models = pd.DataFrame(results)\n",
    "    best_model = models.loc[models['score'].idxmax()]\n",
    "    toc = time.time()\n",
    "    print(\"Processed\", models.shape[0], \"models on\", k, \"predictors in\", toc - tic, \"seconds.\")\n",
    "\n",
    "    return best_model\n",
    "\n",
    "# Run model selection with cross-validation\n",
    "models_cv = pd.DataFrame(columns=[\"score\", \"model\", \"features\"])\n",
    "tic = time.time()\n",
    "for i in range(1, len(X_train.columns) + 1): \n",
    "    models_cv.loc[i] = getBest(i)\n",
    "toc = time.time()"
   ]
  },
  {
   "cell_type": "code",
   "execution_count": 5,
   "metadata": {},
   "outputs": [
    {
     "name": "stdout",
     "output_type": "stream",
     "text": [
      "Best features: ('fixed acidity', 'volatile acidity', 'citric acid', 'residual sugar', 'chlorides', 'free sulfur dioxide', 'total sulfur dioxide', 'sulphates', 'alcohol')\n"
     ]
    }
   ],
   "source": [
    "# Identify the best model\n",
    "best_index = models_cv['score'].idxmax()\n",
    "best_model = models_cv.loc[best_index]\n",
    "\n",
    "print(\"Best features:\", best_model['features'])"
   ]
  },
  {
   "cell_type": "code",
   "execution_count": 6,
   "metadata": {},
   "outputs": [],
   "source": [
    "predictors_bs = list(best_model['features'])\n",
    "\n",
    "scaler = StandardScaler()\n",
    "log_reg = LogisticRegression(random_state=0, max_iter=10000)\n",
    "pipe = Pipeline([('scaler', scaler), ('log_reg', log_reg)])\n",
    "pipe.fit(X_train[predictors_bs], y_train)\n",
    "\n",
    "train_pred = pipe.predict(X_train[predictors_bs])\n",
    "test_pred = pipe.predict(X_test[predictors_bs])"
   ]
  },
  {
   "cell_type": "code",
   "execution_count": 7,
   "metadata": {},
   "outputs": [
    {
     "name": "stdout",
     "output_type": "stream",
     "text": [
      "Training Data Metrics:\n",
      "Confusion Matrix:\n",
      "[[  2   0   5   1   0   0]\n",
      " [  0   1  28  12   1   0]\n",
      " [  2   0 405 133   6   0]\n",
      " [  0   0 165 290  41   0]\n",
      " [  0   0  11  98  63   0]\n",
      " [  0   0   0   9   6   0]]\n",
      "\n",
      "Classification Report:\n",
      "              precision    recall  f1-score   support\n",
      "\n",
      "           3       0.50      0.25      0.33         8\n",
      "           4       1.00      0.02      0.05        42\n",
      "           5       0.66      0.74      0.70       546\n",
      "           6       0.53      0.58      0.56       496\n",
      "           7       0.54      0.37      0.44       172\n",
      "           8       0.00      0.00      0.00        15\n",
      "\n",
      "    accuracy                           0.59      1279\n",
      "   macro avg       0.54      0.33      0.35      1279\n",
      "weighted avg       0.60      0.59      0.58      1279\n",
      "\n",
      "Testing Data Metrics:\n",
      "Confusion Matrix:\n",
      "[[  0   0   2   0   0   0]\n",
      " [  0   0   6   4   1   0]\n",
      " [  0   0 104  30   1   0]\n",
      " [  0   0  39  88  15   0]\n",
      " [  0   0   2  15  10   0]\n",
      " [  0   0   0   1   2   0]]\n",
      "\n",
      "Classification Report:\n",
      "              precision    recall  f1-score   support\n",
      "\n",
      "           3       0.00      0.00      0.00         2\n",
      "           4       0.00      0.00      0.00        11\n",
      "           5       0.68      0.77      0.72       135\n",
      "           6       0.64      0.62      0.63       142\n",
      "           7       0.34      0.37      0.36        27\n",
      "           8       0.00      0.00      0.00         3\n",
      "\n",
      "    accuracy                           0.63       320\n",
      "   macro avg       0.28      0.29      0.28       320\n",
      "weighted avg       0.60      0.63      0.61       320\n",
      "\n"
     ]
    },
    {
     "name": "stderr",
     "output_type": "stream",
     "text": [
      "/Library/Frameworks/Python.framework/Versions/3.12/lib/python3.12/site-packages/sklearn/metrics/_classification.py:1509: UndefinedMetricWarning: Precision is ill-defined and being set to 0.0 in labels with no predicted samples. Use `zero_division` parameter to control this behavior.\n",
      "  _warn_prf(average, modifier, f\"{metric.capitalize()} is\", len(result))\n",
      "/Library/Frameworks/Python.framework/Versions/3.12/lib/python3.12/site-packages/sklearn/metrics/_classification.py:1509: UndefinedMetricWarning: Precision is ill-defined and being set to 0.0 in labels with no predicted samples. Use `zero_division` parameter to control this behavior.\n",
      "  _warn_prf(average, modifier, f\"{metric.capitalize()} is\", len(result))\n",
      "/Library/Frameworks/Python.framework/Versions/3.12/lib/python3.12/site-packages/sklearn/metrics/_classification.py:1509: UndefinedMetricWarning: Precision is ill-defined and being set to 0.0 in labels with no predicted samples. Use `zero_division` parameter to control this behavior.\n",
      "  _warn_prf(average, modifier, f\"{metric.capitalize()} is\", len(result))\n",
      "/Library/Frameworks/Python.framework/Versions/3.12/lib/python3.12/site-packages/sklearn/metrics/_classification.py:1509: UndefinedMetricWarning: Precision is ill-defined and being set to 0.0 in labels with no predicted samples. Use `zero_division` parameter to control this behavior.\n",
      "  _warn_prf(average, modifier, f\"{metric.capitalize()} is\", len(result))\n",
      "/Library/Frameworks/Python.framework/Versions/3.12/lib/python3.12/site-packages/sklearn/metrics/_classification.py:1509: UndefinedMetricWarning: Precision is ill-defined and being set to 0.0 in labels with no predicted samples. Use `zero_division` parameter to control this behavior.\n",
      "  _warn_prf(average, modifier, f\"{metric.capitalize()} is\", len(result))\n",
      "/Library/Frameworks/Python.framework/Versions/3.12/lib/python3.12/site-packages/sklearn/metrics/_classification.py:1509: UndefinedMetricWarning: Precision is ill-defined and being set to 0.0 in labels with no predicted samples. Use `zero_division` parameter to control this behavior.\n",
      "  _warn_prf(average, modifier, f\"{metric.capitalize()} is\", len(result))\n"
     ]
    }
   ],
   "source": [
    "from sklearn.metrics import confusion_matrix, classification_report, accuracy_score, f1_score, roc_auc_score\n",
    "\n",
    "print(\"Training Data Metrics:\")\n",
    "print(\"Confusion Matrix:\")\n",
    "print(confusion_matrix(y_train, train_pred))\n",
    "print(\"\\nClassification Report:\")\n",
    "print(classification_report(y_train, train_pred))\n",
    "\n",
    "print(\"Testing Data Metrics:\")\n",
    "print(\"Confusion Matrix:\")\n",
    "print(confusion_matrix(y_test, test_pred))\n",
    "print(\"\\nClassification Report:\")\n",
    "print(classification_report(y_test, test_pred))"
   ]
  },
  {
   "cell_type": "code",
   "execution_count": 8,
   "metadata": {},
   "outputs": [
    {
     "name": "stdout",
     "output_type": "stream",
     "text": [
      "Training Accuracy: 0.5949960906958561\n",
      "Test Accuracy: 0.63125\n",
      "Training F1-Score: 0.5768178358443645\n",
      "Test F1-Score: 0.61375\n",
      "Training AUC: 0.8041815471040774\n",
      "Test AUC: 0.732471752442263\n"
     ]
    }
   ],
   "source": [
    "train_accuracy = accuracy_score(y_train, train_pred)\n",
    "test_accuracy = accuracy_score(y_test, test_pred)\n",
    "train_f1 = f1_score(y_train, train_pred, average='weighted')\n",
    "test_f1 = f1_score(y_test, test_pred, average='weighted')\n",
    "\n",
    "train_prob = pipe.predict_proba(X_train[predictors_bs])\n",
    "test_prob = pipe.predict_proba(X_test[predictors_bs])\n",
    "train_auc = roc_auc_score(y_train, train_prob, multi_class=\"ovo\", average=\"weighted\")\n",
    "test_auc = roc_auc_score(y_test, test_prob, multi_class=\"ovo\", average=\"weighted\")\n",
    "\n",
    "print(f\"Training Accuracy: {train_accuracy}\")\n",
    "print(f\"Test Accuracy: {test_accuracy}\")\n",
    "print(f\"Training F1-Score: {train_f1}\")\n",
    "print(f\"Test F1-Score: {test_f1}\")\n",
    "print(f\"Training AUC: {train_auc}\")\n",
    "print(f\"Test AUC: {test_auc}\")"
   ]
  }
 ],
 "metadata": {
  "kernelspec": {
   "display_name": "Python 3",
   "language": "python",
   "name": "python3"
  },
  "language_info": {
   "codemirror_mode": {
    "name": "ipython",
    "version": 3
   },
   "file_extension": ".py",
   "mimetype": "text/x-python",
   "name": "python",
   "nbconvert_exporter": "python",
   "pygments_lexer": "ipython3",
   "version": "3.12.2"
  }
 },
 "nbformat": 4,
 "nbformat_minor": 2
}
